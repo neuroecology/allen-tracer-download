{
 "cells": [
  {
   "cell_type": "markdown",
   "id": "f78b6976-7c63-4243-866c-6cc887b1e08c",
   "metadata": {},
   "source": [
    "### Allen download\n",
    "##### The following function downloads the tracer-data for the WT-experiments and exports the data as a nifti file. In addition it also creates a cvs file with the experiment ids, which is needed for the allen function. It accepts the following arguments:\n",
    "- resolution: the resolution of the tracer-data that is to be downloaded (default=100)\n",
    "- directory: the directory in which the data and the experiment_id list is exported   (default = current directory\n",
    "- brain_mask: speficies whether the data outside of the brain should be converted to zero's. \n",
    " (default=true) \n",
    "\n",
    "##### If you just run the function without specifying anything (allen_download()). The function will simply proceed to download the tracer data at 100 muM resolution with a brain mask, and export the data, togehter with with csv-file to the current working directory. "
   ]
  },
  {
   "cell_type": "code",
   "execution_count": 5,
   "id": "51253f1e-6b6d-4253-8f1f-fa452d06f837",
   "metadata": {},
   "outputs": [],
   "source": [
    "def allen_download (resolution=100, directory=None, brain_mask=True):\n",
    "    \n",
    "    #getting some packages\n",
    "    import pandas as pd\n",
    "    import numpy as np\n",
    "    import os\n",
    "    import nibabel as nib\n",
    "    from allensdk.core.mouse_connectivity_cache import MouseConnectivityCache\n",
    "    mcc = MouseConnectivityCache(resolution=resolution)\n",
    "    \n",
    "    #setting the directory\n",
    "    if directory!=None:\n",
    "        os.chdir(directory)\n",
    "        \n",
    "    #creating the projection search file\n",
    "    id_list=mcc.get_experiments(cre=False)\n",
    "    id_list=pd.DataFrame(id_list)\n",
    "    id_list.to_csv('WT_experiment_id_list.csv', index=False)\n",
    "    id_list=id_list['id'].to_list()\n",
    "\n",
    "    #getting one tracer map's size\n",
    "    experiment_id = 180436360\n",
    "    single_tracer= mcc.get_projection_density(experiment_id)\n",
    "\n",
    "\n",
    "    #creating the empty 4d_matrix\n",
    "    x, y , z = single_tracer[0].shape\n",
    "    i=len(id_list)\n",
    "    merge_matrix = np.zeros(x*y*z*i)\n",
    "    merge_matrix = np.reshape(merge_matrix,(x,y,z,i))\n",
    "\n",
    "    if brain_mask==True:\n",
    "        #getting the template\n",
    "        template, template_info = mcc.get_template_volume()\n",
    "\n",
    "    #saving the tracer values in the empty matrix\n",
    "    a=0\n",
    "    for tracer_id in id_list:\n",
    "        \n",
    "        tracer= (mcc.get_projection_density(tracer_id)[0])\n",
    "        if brain_mask==True:\n",
    "            tracer[template<=2]=0#mask for cortex\n",
    "        merge_matrix[:,:,:,a]=tracer\n",
    "        a=a+1\n",
    "    if brain_mask==True:\n",
    "        tracer_nifti=nib.Nifti1Image(merge_matrix, affine=np.eye(4))\n",
    "        nib.save(tracer_nifti, 'tracer_data_masked.nii.gz')\n",
    "    if brain_mask==False:\n",
    "        tracer_nifti=nib.Nifti1Image(merge_matrix, affine=np.eye(4))\n",
    "        nib.save(tracer_nifti, 'tracer_data.nii.gz')\n",
    "  "
   ]
  },
  {
   "cell_type": "code",
   "execution_count": 6,
   "id": "7f98a562-545e-47e4-809d-c3a1e02a9b85",
   "metadata": {},
   "outputs": [],
   "source": [
    "#example code\n",
    "allen_download()"
   ]
  }
 ],
 "metadata": {
  "kernelspec": {
   "display_name": "Python 3 (ipykernel)",
   "language": "python",
   "name": "python3"
  },
  "language_info": {
   "codemirror_mode": {
    "name": "ipython",
    "version": 3
   },
   "file_extension": ".py",
   "mimetype": "text/x-python",
   "name": "python",
   "nbconvert_exporter": "python",
   "pygments_lexer": "ipython3",
   "version": "3.7.11"
  }
 },
 "nbformat": 4,
 "nbformat_minor": 5
}
